{
 "cells": [
  {
   "cell_type": "code",
   "execution_count": 190,
   "id": "respected-march",
   "metadata": {},
   "outputs": [],
   "source": [
    "import msprime \n",
    "import torch \n",
    "import torch_geometric\n",
    "from torch_geometric.utils import remove_self_loops, from_networkx, remove_isolated_nodes\n",
    "from torch_geometric.data import Data\n",
    "import numpy as np\n",
    "import seaborn as sns\n",
    "import networkx as nx"
   ]
  },
  {
   "cell_type": "code",
   "execution_count": 16,
   "id": "5936fb40-5b4d-4109-a730-f7f0cf7ad565",
   "metadata": {},
   "outputs": [],
   "source": [
    "def rename_data_attribute(obj, old_name, new_name):\n",
    "    obj.__dict__['_store'][new_name] = obj.__dict__['_store'].pop(old_name)"
   ]
  },
  {
   "cell_type": "code",
   "execution_count": 3,
   "id": "settled-founder",
   "metadata": {},
   "outputs": [],
   "source": [
    "sample_size=10\n",
    "L = 10**8\n",
    "r = 0.5 * 1e-8\n",
    "s = 1\n",
    "\n",
    "Ne=10**4\n",
    "demography=msprime.Demography()\n",
    "demography.add_population(initial_size=(Ne))\n",
    "\n",
    "for x in range(0,1):\n",
    "    ts=msprime.sim_ancestry(samples=sample_size,\n",
    "                            recombination_rate=r,\n",
    "                            sequence_length=L,\n",
    "                            demography=demography,\n",
    "                            ploidy=1 ,\n",
    "                            model=[msprime.SweepGenicSelection(position=(L/2), start_frequency=(1/Ne),end_frequency=0.99,s=s,dt=(1/(40*Ne))),\n",
    "                                   msprime.StandardCoalescent()],\n",
    "                            random_seed=((s*x*10+3)**2)\n",
    "                           )"
   ]
  },
  {
   "cell_type": "code",
   "execution_count": 171,
   "id": "cardiac-basement",
   "metadata": {},
   "outputs": [],
   "source": []
  },
  {
   "cell_type": "code",
   "execution_count": 5,
   "id": "df53c1d3-dd1f-4f7c-8034-3205c43ffecd",
   "metadata": {},
   "outputs": [],
   "source": [
    "def get_population_time(time_rate:float=0.06, tmax:int = 130_000,\n",
    "                        num_time_windows:int = 21\n",
    "                       ) -> np.array :\n",
    "    \"\"\"Creates population time points; used as time points to change\n",
    "    population size changes for simulation\n",
    "    \n",
    "    :return numpy.ndarray: time points of length num_time_windows\n",
    "    \"\"\"\n",
    "    \n",
    "    population_time = np.repeat([(np.exp(np.log(1 + time_rate * tmax) * i /\n",
    "                              (num_time_windows - 1)) - 1) / time_rate for i in\n",
    "                              range(num_time_windows)], 1, axis=0)\n",
    "    population_time[0] = 1\n",
    "    return population_time\n",
    "\n",
    "def get_new_poptime():\n",
    "    steps = 18\n",
    "    x = np.log(get_population_time(time_rate=0.1, num_time_windows=steps, tmax=10_000_000).tolist())\n",
    "    xnew = np.linspace(x[0], x[-1], num=10000, endpoint=True)\n",
    "    x_sample = xnew[np.linspace(10, 9999, 60).astype(int)]\n",
    "    population_time = np.exp(x_sample)\n",
    "    return population_time"
   ]
  },
  {
   "cell_type": "code",
   "execution_count": 6,
   "id": "3aecbf20-1df3-407b-81c9-0c09e5a940cc",
   "metadata": {},
   "outputs": [],
   "source": [
    "population_time = get_new_poptime()"
   ]
  },
  {
   "cell_type": "code",
   "execution_count": 7,
   "id": "9669fda5-7198-4297-adf8-4edb3b41f066",
   "metadata": {},
   "outputs": [
    {
     "data": {
      "text/plain": [
       "<AxesSubplot:>"
      ]
     },
     "execution_count": 7,
     "metadata": {},
     "output_type": "execute_result"
    },
    {
     "data": {
      "image/png": "[encoded data removed]",
      "text/plain": [
       "<Figure size 432x288 with 1 Axes>"
      ]
     },
     "metadata": {
      "needs_background": "light"
     },
     "output_type": "display_data"
    }
   ],
   "source": [
    "sns.lineplot(x=np.log(population_time), y=1e6)\n",
    "sns.scatterplot(x=np.log(population_time), y=1e6)"
   ]
  },
  {
   "cell_type": "code",
   "execution_count": 8,
   "id": "35fbb370-0fec-41da-8194-66868c54e253",
   "metadata": {},
   "outputs": [],
   "source": [
    "trees = ts.aslist()"
   ]
  },
  {
   "cell_type": "code",
   "execution_count": 86,
   "id": "6a39f468-dc53-45cd-a60e-ded6ce1783a2",
   "metadata": {},
   "outputs": [],
   "source": []
  },
  {
   "cell_type": "code",
   "execution_count": 231,
   "id": "449129d0-2da1-4b9f-a108-c48a3895c610",
   "metadata": {},
   "outputs": [],
   "source": [
    "def add_mmc_events(edge_index1, edge_index2, do_node1, do_node2):\n",
    "    for i, edge in enumerate(edge_index1):\n",
    "        if edge == do_node2:\n",
    "            edge_index1[i] = do_node1\n",
    "\n",
    "    for i, edge in enumerate(edge_index2):\n",
    "        if edge == do_node2:\n",
    "            edge_index2[i] = do_node1\n",
    "            \n",
    "    return edge_index1, edge_index2\n",
    "\n",
    "\n",
    "def torch_delete(tensor, indices):\n",
    "    mask = torch.ones(tensor.numel(), dtype=torch.bool)\n",
    "    mask[indices] = False\n",
    "    return tensor[mask]\n",
    "\n",
    "def old_datatize_trees(tree):\n",
    "    G = nx.Graph(tree.as_dict_of_dicts())\n",
    "    #mapping_dict = {i: x for i, x in enumerate(list(G.nodes()))}\n",
    "    data_object = from_networkx(G)\n",
    "    rename_data_attribute(data_object, \"branch_length\", \"edge_weight\") \n",
    "    #data_object.mapping_dict = mapping_dict\n",
    "    return data_object\n",
    "\n",
    "\n",
    "def datatize_trees(tree):\n",
    "    G = nx.DiGraph(tree.as_dict_of_dicts())\n",
    "    mapping_dict = {i: x for i, x in enumerate(list(G.nodes()))}\n",
    "    data_object = from_networkx(G)\n",
    "    rename_data_attribute(data_object, \"branch_length\", \"edge_weight\") \n",
    "    data_object.mapping_dict = mapping_dict\n",
    "    return data_object\n",
    "\n",
    "def undirect(do):\n",
    "\n",
    "    edge_index0 = do.edge_index[0] \n",
    "    edge_index1 = do.edge_index[1] \n",
    "    new_edge_index0 = torch.cat([edge_index0, edge_index1])\n",
    "    new_edge_index1 = torch.cat([edge_index1, edge_index0])\n",
    "    edge_index = torch.stack([new_edge_index0, new_edge_index1])\n",
    "    edge_weight = torch.cat([do.edge_weight, do.edge_weight])\n",
    "\n",
    "    num_nodes = int(edge_weight.shape[0] / 2)\n",
    "    num_nodes = torch.Tensor([num_nodes]).long()[0] + 1\n",
    " \n",
    "    do = Data(edge_index=edge_index, edge_weight=edge_weight, num_nodes=num_nodes)\n",
    "    \n",
    "    return do\n",
    "\n",
    "\n",
    "def multiple_mergerize(tree):\n",
    "    \n",
    "    data_object = datatize_trees(tree)\n",
    "    mapping_dict = data_object.mapping_dict\n",
    "    node_times1 = [tree.get_time(data_object.mapping_dict[key]) for key in data_object.edge_index[0].tolist()]\n",
    "    node_times2 = [tree.get_time(data_object.mapping_dict[key]) for key in data_object.edge_index[1].tolist()]\n",
    "    count_node1, _ = np.histogram(node_times1, bins=population_time)\n",
    "    count_node2, _ = np.histogram(node_times2, bins=population_time)\n",
    "    dg_node_times1 = np.digitize(node_times1, bins=population_time)\n",
    "    dg_node_times2 = np.digitize(node_times2, bins=population_time)\n",
    "    mmc_events = np.argwhere(dg_node_times1 == dg_node_times2).T[0].tolist()\n",
    "    edge_index1 = data_object.edge_index[0]\n",
    "    edge_index2 = data_object.edge_index[1]\n",
    "    edge_weight = data_object.edge_weight\n",
    "\n",
    "    if len(mmc_events) > 0:\n",
    "\n",
    "        for mmc_event in mmc_events:\n",
    "            do_node1, do_node2 = edge_index1[mmc_event].item(), edge_index2[mmc_event].item()\n",
    "            edge_index1, edge_index2 = add_mmc_events(edge_index1, edge_index2, do_node1, do_node2)\n",
    "        loops = np.argwhere(edge_index1 == edge_index2).T[0].tolist()\n",
    "        edge_index1 = torch_delete(edge_index1, loops)\n",
    "        edge_index2 = torch_delete(edge_index2, loops)\n",
    "        edge_weight = torch_delete(edge_weight, loops)\n",
    "        data_object = Data(edge_index = torch.stack([edge_index1, edge_index2]), edge_weight=edge_weight)\n",
    "        data_object.edge_index, data_object.edge_weight = remove_self_loops(data_object.edge_index, data_object.edge_weight)\n",
    "        \n",
    "    data_object.mapping_dict = None\n",
    "    num_nodes = torch.Tensor([len(data_object.edge_weight)]).long()[0] + 1\n",
    "    data_object.num_nodes = num_nodes\n",
    "    data_object = undirect(data_object)\n",
    "    data_object.edge_index, data_object.edge_weight, _  = remove_isolated_nodes(edge_index=data_object.edge_index, edge_attr=data_object.edge_weight)\n",
    "    return data_object\n",
    "\n",
    "#data_objects = [multiple_mergerize(tree) for tree in ts.trees()]"
   ]
  },
  {
   "cell_type": "code",
   "execution_count": null,
   "id": "8403fdce-27d6-4e59-bccc-51682494a640",
   "metadata": {},
   "outputs": [],
   "source": []
  },
  {
   "cell_type": "code",
   "execution_count": 172,
   "id": "fba88d01-34af-4c6d-b599-f45485999304",
   "metadata": {},
   "outputs": [],
   "source": [
    "def plot_data_object(data_object):\n",
    "    edge_index = data_object.edge_index\n",
    "    g = torch_geometric.utils.to_networkx(data_object, to_undirected=True)\n",
    "    nx.draw(g, with_labels=True)"
   ]
  },
  {
   "cell_type": "code",
   "execution_count": 221,
   "id": "e78f3f4a-d9ab-4ce5-af5b-9b0a6fdcff17",
   "metadata": {},
   "outputs": [],
   "source": [
    "tree = trees[1000]"
   ]
  },
  {
   "cell_type": "code",
   "execution_count": 222,
   "id": "cbec6bb5-27ba-49bf-948b-eeae6474e7b0",
   "metadata": {},
   "outputs": [
    {
     "data": {
      "text/plain": [
       "Data(edge_index=[2, 36], num_nodes=19, edge_weight=[36])"
      ]
     },
     "execution_count": 222,
     "metadata": {},
     "output_type": "execute_result"
    }
   ],
   "source": [
    "data_object_before = old_datatize_trees(tree); data_object_before"
   ]
  },
  {
   "cell_type": "code",
   "execution_count": 223,
   "id": "394290c9-64e3-41a7-8758-b752f2fcba51",
   "metadata": {},
   "outputs": [
    {
     "name": "stdout",
     "output_type": "stream",
     "text": [
      "[3]\n"
     ]
    },
    {
     "data": {
      "text/plain": [
       "Data(edge_index=[2, 34], edge_weight=[34], num_nodes=18)"
      ]
     },
     "execution_count": 223,
     "metadata": {},
     "output_type": "execute_result"
    }
   ],
   "source": [
    "data_object_after = multiple_mergerize(tree); data_object_after"
   ]
  },
  {
   "cell_type": "code",
   "execution_count": null,
   "id": "ab9a9214-44d9-4c53-8e8b-eb54b14577da",
   "metadata": {},
   "outputs": [],
   "source": []
  },
  {
   "cell_type": "code",
   "execution_count": 224,
   "id": "993bdda3-4a70-49fa-8552-bae2a052153f",
   "metadata": {},
   "outputs": [
    {
     "data": {
      "image/png": "[encoded data removed]",
      "text/plain": [
       "<Figure size 432x288 with 1 Axes>"
      ]
     },
     "metadata": {},
     "output_type": "display_data"
    }
   ],
   "source": [
    "plot_data_object(data_object_before);"
   ]
  },
  {
   "cell_type": "code",
   "execution_count": 225,
   "id": "4b6107d9-a81e-441d-99e1-0e22c6da46d6",
   "metadata": {},
   "outputs": [
    {
     "data": {
      "image/png": "[encoded data removed]",
      "text/plain": [
       "<Figure size 432x288 with 1 Axes>"
      ]
     },
     "metadata": {},
     "output_type": "display_data"
    }
   ],
   "source": [
    "plot_data_object(data_object_after)"
   ]
  },
  {
   "cell_type": "code",
   "execution_count": null,
   "id": "47ca108d-0f25-4dbc-9a9f-fab940a077d6",
   "metadata": {},
   "outputs": [],
   "source": []
  },
  {
   "cell_type": "code",
   "execution_count": 235,
   "id": "3dc45a26-0e07-47a3-be6e-d5cf3da06133",
   "metadata": {},
   "outputs": [],
   "source": [
    "def get_tree_starting_positions(ts):\n",
    "    tree_starting_positions = []\n",
    "    for tree in ts.trees():\n",
    "        left = tree.interval.left\n",
    "        tree_starting_positions.append(left)\n",
    "    return tree_starting_positions"
   ]
  },
  {
   "cell_type": "code",
   "execution_count": 236,
   "id": "26c9eb36-050a-4f5e-9ae8-eb3322e32c8e",
   "metadata": {},
   "outputs": [],
   "source": [
    "tree_starting_positions = get_tree_starting_positions(ts)"
   ]
  },
  {
   "cell_type": "code",
   "execution_count": 232,
   "id": "84a9b619-72b5-4d60-b711-136c0fd35803",
   "metadata": {},
   "outputs": [],
   "source": [
    "data_objects = [multiple_mergerize(tree) for tree in ts.trees()]"
   ]
  },
  {
   "cell_type": "code",
   "execution_count": 239,
   "id": "147c4681-5764-4658-9eb5-d839c37db2cb",
   "metadata": {},
   "outputs": [],
   "source": [
    "num_nodes = [do.num_nodes.item() for do in data_objects]"
   ]
  },
  {
   "cell_type": "code",
   "execution_count": null,
   "id": "8f01443b-a778-48be-80a9-8154fdc79fee",
   "metadata": {},
   "outputs": [],
   "source": []
  },
  {
   "cell_type": "code",
   "execution_count": 241,
   "id": "2d9bfe09-da10-4550-8a73-cfbd3e595f5c",
   "metadata": {},
   "outputs": [
    {
     "data": {
      "text/plain": [
       "<AxesSubplot:>"
      ]
     },
     "execution_count": 241,
     "metadata": {},
     "output_type": "execute_result"
    },
    {
     "data": {
      "image/png": "[encoded data removed]",
      "text/plain": [
       "<Figure size 432x288 with 1 Axes>"
      ]
     },
     "metadata": {
      "needs_background": "light"
     },
     "output_type": "display_data"
    }
   ],
   "source": [
    "sns.lineplot(x=tree_starting_positions, y=num_nodes)"
   ]
  }
 ],
 "metadata": {
  "kernelspec": {
   "display_name": "Python 3 (ipykernel)",
   "language": "python",
   "name": "python3"
  },
  "language_info": {
   "codemirror_mode": {
    "name": "ipython",
    "version": 3
   },
   "file_extension": ".py",
   "mimetype": "text/x-python",
   "name": "python",
   "nbconvert_exporter": "python",
   "pygments_lexer": "ipython3",
   "version": "3.9.9"
  }
 },
 "nbformat": 4,
 "nbformat_minor": 5
}
